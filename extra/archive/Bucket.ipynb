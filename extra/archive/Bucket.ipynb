{
 "cells": [
  {
   "cell_type": "code",
   "execution_count": 1,
   "id": "b2afe6a1-0be1-4735-b53a-b9cd905184f9",
   "metadata": {},
   "outputs": [
    {
     "name": "stdout",
     "output_type": "stream",
     "text": [
      "sagemaker.config INFO - Not applying SDK defaults from location: /etc/xdg/sagemaker/config.yaml\n",
      "sagemaker.config INFO - Not applying SDK defaults from location: /home/sagemaker-user/.config/sagemaker/config.yaml\n",
      "Your SageMaker S3 bucket is: sagemaker-us-east-1-372743750407\n"
     ]
    }
   ],
   "source": [
    "import sagemaker\n",
    "# Get the teammate’s SageMaker default bucket\n",
    "session = sagemaker.Session()\n",
    "s3_bucket = session.default_bucket()\n",
    "print(\"Your SageMaker S3 bucket is:\", s3_bucket)"
   ]
  },
  {
   "cell_type": "code",
   "execution_count": 2,
   "id": "55c40d89-7acc-4c36-b4ed-7290cd4782ef",
   "metadata": {},
   "outputs": [
    {
     "name": "stdout",
     "output_type": "stream",
     "text": [
      ":white_check_mark: Copied Liar.csv to sagemaker-us-east-1-372743750407/raw/Liar.csv\n",
      ":white_check_mark: Copied Synthetic Financial Datasets.csv to sagemaker-us-east-1-372743750407/raw/Synthetic Financial Datasets.csv\n",
      ":white_check_mark: Copied WELFake_Dataset.csv to sagemaker-us-east-1-372743750407/raw/WELFake_Dataset.csv\n"
     ]
    }
   ],
   "source": [
    "import boto3\n",
    "import sagemaker\n",
    "# Define source bucket (where the original dataset is stored)\n",
    "source_bucket = \"fake-news-raw-data\"  # Your shared bucket\n",
    "# Get their own SageMaker bucket dynamically\n",
    "session = sagemaker.Session()\n",
    "target_bucket = session.default_bucket()  # This auto-fills their personal SageMaker bucket\n",
    "# List of dataset files\n",
    "files = [\"Liar.csv\", \"Synthetic Financial Datasets.csv\", \"WELFake_Dataset.csv\"]\n",
    "# Initialize S3 client\n",
    "s3_client = boto3.client(\"s3\")\n",
    "# Copy each file to their own SageMaker bucket\n",
    "for file in files:\n",
    "    copy_source = {'Bucket': source_bucket, 'Key': file}\n",
    "    s3_client.copy_object(CopySource=copy_source, Bucket=target_bucket, Key=f\"raw/{file}\")\n",
    "    print(f\":white_check_mark: Copied {file} to {target_bucket}/raw/{file}\")"
   ]
  }
 ],
 "metadata": {
  "kernelspec": {
   "display_name": "Python 3 (ipykernel)",
   "language": "python",
   "name": "python3"
  },
  "language_info": {
   "codemirror_mode": {
    "name": "ipython",
    "version": 3
   },
   "file_extension": ".py",
   "mimetype": "text/x-python",
   "name": "python",
   "nbconvert_exporter": "python",
   "pygments_lexer": "ipython3",
   "version": "3.11.11"
  }
 },
 "nbformat": 4,
 "nbformat_minor": 5
}
