{
 "cells": [
  {
   "cell_type": "markdown",
   "id": "192af4bd-f127-4257-b971-8f0c5f6317ca",
   "metadata": {},
   "source": [
    "## Katie Kimberling - Preprocessing of Liar Dataset"
   ]
  },
  {
   "cell_type": "markdown",
   "id": "7126e524-8b2f-42e0-b505-0be7b1df9119",
   "metadata": {},
   "source": [
    "# Preprocessing the Data"
   ]
  },
  {
   "cell_type": "code",
   "execution_count": null,
   "id": "ac3364f9-c59e-4036-855b-2550b4ec9d16",
   "metadata": {},
   "outputs": [],
   "source": [
    "import boto3\n",
    "import os\n",
    "\n",
    "# Define S3 bucket and file names\n",
    "s3_bucket = \"fake-news-raw-data\"\n",
    "s3_files = [\"Liar.csv\", \"Synthetic Financial Datasets.csv\", \"WELFake_Dataset.csv\"]\n",
    "local_folder = \"/home/ec2-user/SageMaker/data/\"\n",
    "\n",
    "# Ensure local directory exists\n",
    "os.makedirs(local_folder, exist_ok=True)\n",
    "\n",
    "# Initialize S3 client\n",
    "s3_client = boto3.client(\"s3\")\n",
    "\n",
    "# Download files from S3\n",
    "for file in s3_files:\n",
    "    local_path = os.path.join(local_folder, file)\n",
    "    s3_client.download_file(s3_bucket, file, local_path)\n",
    "    print(f\"✅ Downloaded {file} to {local_path}\")"
   ]
  },
  {
   "cell_type": "markdown",
   "id": "88449319-68f1-4406-b075-e2ba10e9c945",
   "metadata": {},
   "source": [
    "## Import Python package \"stopwords\" to overlook commonly used words and articles (English)"
   ]
  },
  {
   "cell_type": "code",
   "execution_count": null,
   "id": "2ee5818f-9ebe-4c53-a279-1fc322eac88c",
   "metadata": {},
   "outputs": [],
   "source": [
    "import nltk\n",
    "nltk.download('stopwords')"
   ]
  },
  {
   "cell_type": "markdown",
   "id": "3e18ec09-accd-49bf-9fd6-d58270b01c07",
   "metadata": {},
   "source": [
    "## Import required modules"
   ]
  },
  {
   "cell_type": "code",
   "execution_count": null,
   "id": "a6026d4a-a63e-404c-ae35-f85af2c408aa",
   "metadata": {},
   "outputs": [],
   "source": [
    "from sklearn.preprocessing import OneHotEncoder\n",
    "from sklearn.utils import resample\n",
    "from sklearn.model_selection import train_test_split\n",
    "import pandas as pd\n",
    "import re\n",
    "import nltk\n",
    "from nltk.corpus import stopwords"
   ]
  },
  {
   "cell_type": "markdown",
   "id": "1acbbea4-b9e7-4731-91d1-40ba700c3e1f",
   "metadata": {},
   "source": [
    "## Ensure NLTK stopwords are available"
   ]
  },
  {
   "cell_type": "code",
   "execution_count": null,
   "id": "a8a6ba6c-f9de-4124-b7e2-7d9890cc7031",
   "metadata": {},
   "outputs": [],
   "source": [
    "nltk.download('stopwords')\n",
    "stop_words = set(stopwords.words(\"english\"))"
   ]
  },
  {
   "cell_type": "markdown",
   "id": "f6e5dbcb-e86f-44b4-a6d8-7b5bae37355e",
   "metadata": {},
   "source": [
    "## Load Liar.csv dataset and make pandas dataframe"
   ]
  },
  {
   "cell_type": "code",
   "execution_count": null,
   "id": "270e03e4-3643-4374-a2d2-ff61cfc9d7b8",
   "metadata": {},
   "outputs": [],
   "source": [
    "liar_clean = pd.read_csv(\"/home/ec2-user/SageMaker/data/Liar.csv\")\n",
    "\n",
    "# Display dataset info\n",
    "\n",
    "liar_clean.info()"
   ]
  },
  {
   "cell_type": "markdown",
   "id": "a062bd7a-8261-45a4-a21d-0e61a02d2d90",
   "metadata": {},
   "source": [
    "## Function to clean text using NLTK stopwords"
   ]
  },
  {
   "cell_type": "code",
   "execution_count": null,
   "id": "762a82f1-f45f-4279-a0b9-fb72f0663648",
   "metadata": {},
   "outputs": [],
   "source": [
    "def clean_text_nltk(text):\n",
    "    text = text.lower()  # Convert to lowercase\n",
    "    text = re.sub(r'\\W', ' ', text)  # Remove punctuation\n",
    "    text = ' '.join([word for word in text.split() if word not in stop_words])  # Remove stopwords\n",
    "    return text\n",
    "\n",
    "liar_clean[\"clean_statement\"] = liar_clean[\"Statement\"].apply(clean_text_nltk)"
   ]
  },
  {
   "cell_type": "markdown",
   "id": "2d0ec486-02bc-4d11-ade3-0ce948994fd2",
   "metadata": {},
   "source": [
    "## Convert numerical columns to integers"
   ]
  },
  {
   "cell_type": "code",
   "execution_count": null,
   "id": "5aa46f8b-66f2-4b4a-853b-f0aa3a3b9c5a",
   "metadata": {},
   "outputs": [],
   "source": [
    "count_cols = [\"barely_true_counts\", \"false_counts\", \"half-true_counts\", \"mostly_true_counts\", \"pants_on_fire_counts\"]\n",
    "liar_clean[count_cols] = liar_clean[count_cols].fillna(0).astype(int)"
   ]
  },
  {
   "cell_type": "markdown",
   "id": "af357075-ef5c-418b-a583-51ac7b22c3e8",
   "metadata": {},
   "source": [
    "## Create a total misinformation score feature"
   ]
  },
  {
   "cell_type": "code",
   "execution_count": null,
   "id": "f7ec1bd6-763b-49a9-a386-2d9d4d4f601b",
   "metadata": {},
   "outputs": [],
   "source": [
    "liar_clean[\"total_misinfo_score\"] = liar_clean[count_cols].sum(axis=1)"
   ]
  },
  {
   "cell_type": "markdown",
   "id": "696e17a4-e42b-4762-814e-1d13128cc782",
   "metadata": {},
   "source": [
    "## One-Hot Encoding for Speaker Party"
   ]
  },
  {
   "cell_type": "code",
   "execution_count": null,
   "id": "7fdef977-36b6-49e1-bf6a-fd5246659a8c",
   "metadata": {},
   "outputs": [],
   "source": [
    "encoder = OneHotEncoder(sparse_output=False,drop=\"first\")\n",
    "encoded_party = encoder.fit_transform(liar_clean[[\"Speaker_party\"]])\n",
    "party_columns = encoder.get_feature_names_out([\"Speaker_party\"])\n",
    "liar_encoded_party = pd.DataFrame(encoded_party, columns=party_columns, index=liar_clean.index)"
   ]
  },
  {
   "cell_type": "markdown",
   "id": "49d04bbe-b158-487b-8a82-ce3d62bb09b5",
   "metadata": {},
   "source": [
    "## Merge and drop original categorical column"
   ]
  },
  {
   "cell_type": "code",
   "execution_count": null,
   "id": "45262a02-0605-4a7d-8317-90b789be35ce",
   "metadata": {},
   "outputs": [],
   "source": [
    "liar_clean = pd.concat([liar_clean, liar_encoded_party], axis=1)\n",
    "liar_clean.drop([\"Speaker_party\"], axis=1, inplace=True)"
   ]
  },
  {
   "cell_type": "markdown",
   "id": "c30b9e18-3d78-4f77-a07c-0e98c1898abc",
   "metadata": {},
   "source": [
    "## Balance dataset by oversampling minority classes"
   ]
  },
  {
   "cell_type": "code",
   "execution_count": null,
   "id": "9c177407-11ec-4319-a8e4-9109d8596a99",
   "metadata": {},
   "outputs": [],
   "source": [
    "majority_class = liar_clean[liar_clean[\"Lie_label\"] == \"FALSE\"]\n",
    "minority_classes = liar_clean[liar_clean[\"Lie_label\"] != \"FALSE\"]\n",
    "minority_classes_upsampled = resample(minority_classes, replace=True, n_samples=len(majority_class), random_state=42)\n",
    "liar_balanced = pd.concat([majority_class, minority_classes_upsampled])"
   ]
  },
  {
   "cell_type": "markdown",
   "id": "d8a00a7b-3591-44ee-96ab-a9b4d72683c5",
   "metadata": {},
   "source": [
    "## Split dataset"
   ]
  },
  {
   "cell_type": "code",
   "execution_count": null,
   "id": "6dc8145b-51ba-4d08-bfc8-55215ae37243",
   "metadata": {},
   "outputs": [],
   "source": [
    "train_data, test_data = train_test_split(liar_balanced, test_size=0.2, random_state=42, stratify=liar_balanced[\"Lie_label\"])"
   ]
  },
  {
   "cell_type": "markdown",
   "id": "4d0f000a-9843-413a-bf9a-f8fc087d21b0",
   "metadata": {},
   "source": [
    "## Save the preprocessed data"
   ]
  },
  {
   "cell_type": "code",
   "execution_count": null,
   "id": "e98c9559-4997-4db7-bdbf-2d8d601296a9",
   "metadata": {},
   "outputs": [],
   "source": [
    "train_data.to_csv(\"/home/ec2-user/SageMaker/data/Liar_train.csv\", index=False)\n",
    "test_data.to_csv(\"/home/ec2-user/SageMaker/data/Liar_test.csv\", index=False)\n",
    "\n",
    "print(\"Preprocessing on Liar dataset complete. Training and test datasets saved.\")"
   ]
  },
  {
   "cell_type": "markdown",
   "id": "8ac07402-cf14-4f75-bae9-4450980b71b4",
   "metadata": {},
   "source": [
    "**References**"
   ]
  },
  {
   "cell_type": "markdown",
   "id": "c79b6742-35af-442e-a054-d30f4fe26aa3",
   "metadata": {},
   "source": [
    "OpenAI. (2025). ChatGPT (March 20 version). [LLM]. https://chatgpt.com"
   ]
  },
  {
   "cell_type": "markdown",
   "id": "2bffc540-5cfd-4006-807c-dca72415b425",
   "metadata": {},
   "source": [
    "Python Tutorials. (2021, July 22). *NLTK stop words.* pythonspot. Accessed March 20, 2025 from https://pythonspot.com/nltk-stop-words/"
   ]
  },
  {
   "cell_type": "markdown",
   "id": "83e2e606-fdc0-4265-b221-fa4b1a65821e",
   "metadata": {},
   "source": [
    "## Katie Kimberling's Data Training Liar Dataset"
   ]
  },
  {
   "cell_type": "markdown",
   "id": "e8fe536d-3b50-41e0-b3e7-bb9d62a47cde",
   "metadata": {},
   "source": [
    "## Import necessary packages"
   ]
  },
  {
   "cell_type": "code",
   "execution_count": null,
   "id": "c06a5e79-90a5-4d56-a25d-03796f6c2640",
   "metadata": {},
   "outputs": [],
   "source": [
    "import pandas as pd\n",
    "import boto3\n",
    "import sagemaker\n",
    "from sagemaker import get_execution_role"
   ]
  },
  {
   "cell_type": "markdown",
   "id": "cfdf14d5-2b32-4e9a-b421-e27574b21417",
   "metadata": {},
   "source": [
    "## Reload the train/test datasets"
   ]
  },
  {
   "cell_type": "code",
   "execution_count": null,
   "id": "64469691-2f30-435f-a083-7da64a47030d",
   "metadata": {},
   "outputs": [],
   "source": [
    "train_data = pd.read_csv(\"/home/ec2-user/SageMaker/data/Liar_train.csv\")\n",
    "test_data = pd.read_csv(\"/home/ec2-user/SageMaker/data/Liar_test.csv\")"
   ]
  },
  {
   "cell_type": "markdown",
   "id": "6c02c1cb-7ff8-4077-84d4-3d3ced7b3115",
   "metadata": {},
   "source": [
    "## Define BlazingText format function and output paths"
   ]
  },
  {
   "cell_type": "code",
   "execution_count": null,
   "id": "284fe87d-1b6c-412f-9852-0bc3ad91e456",
   "metadata": {},
   "outputs": [],
   "source": [
    "def prepare_blazingtext_format(df, text_col, label_col, output_file):\n",
    "    with open(output_file, 'w') as f:\n",
    "        for _, row in df.iterrows():\n",
    "            label = f\"__label__{row[label_col]}\"\n",
    "            text = row[text_col]\n",
    "            f.write(f\"{label} {text}\\n\")\n",
    "\n",
    "# Paths to save formatted training and test data\n",
    "train_txt_path = \"/home/ec2-user/SageMaker/data/liar_train_blazing.txt\"\n",
    "test_txt_path = \"/home/ec2-user/SageMaker/data/liar_test_blazing.txt\""
   ]
  },
  {
   "cell_type": "markdown",
   "id": "13fa2704-bcd8-4560-b5f1-5d124e192815",
   "metadata": {},
   "source": [
    "## Format data for BlazingText"
   ]
  },
  {
   "cell_type": "code",
   "execution_count": null,
   "id": "52d33989-9b93-457c-b603-78d5d662f0de",
   "metadata": {},
   "outputs": [],
   "source": [
    "prepare_blazingtext_format(train_data, text_col=\"clean_statement\", label_col=\"Lie_label\", output_file=train_txt_path)\n",
    "prepare_blazingtext_format(test_data, text_col=\"clean_statement\", label_col=\"Lie_label\", output_file=test_txt_path)\n",
    "\n",
    "print(\"Training and test data formatted for BlazingText.\")"
   ]
  },
  {
   "cell_type": "markdown",
   "id": "a3542564-fd57-4ec6-bf44-e7b41ab19a01",
   "metadata": {},
   "source": [
    "## Upload formatted data to s3"
   ]
  },
  {
   "cell_type": "code",
   "execution_count": null,
   "id": "373cdd6c-ece9-474c-ad5d-a29dcf3b4e58",
   "metadata": {},
   "outputs": [],
   "source": [
    "import sagemaker\n",
    "sess = sagemaker.Session()\n",
    "\n",
    "# S3 upload paths\n",
    "s3_bucket = sess.default_bucket()\n",
    "s3_prefix = 'blazingtext-data'\n",
    "\n",
    "train_s3_path = f'{s3_prefix}/liar_train_blazing.txt'\n",
    "test_s3_path = f'{s3_prefix}/liar_test_blazing.txt'\n",
    "\n",
    "# Upload to S3\n",
    "s3 = boto3.client('s3')\n",
    "s3.upload_file(train_txt_path, s3_bucket, train_s3_path)\n",
    "s3.upload_file(test_txt_path, s3_bucket, test_s3_path)\n",
    "\n",
    "print(\"Files uploaded to S3.\")"
   ]
  },
  {
   "cell_type": "markdown",
   "id": "a5b319ba-2f45-46ea-a45c-814a4cc1f7af",
   "metadata": {},
   "source": [
    "## Set up role, session and input paths"
   ]
  },
  {
   "cell_type": "code",
   "execution_count": null,
   "id": "3800ffff-380f-4ded-a4cd-d4c3dfffe9d7",
   "metadata": {},
   "outputs": [],
   "source": [
    "# Role and session\n",
    "role = get_execution_role()\n",
    "sess = sagemaker.Session()\n",
    "\n",
    "# S3 input paths\n",
    "s3_train_input = f's3://{s3_bucket}/{train_s3_path}'\n",
    "s3_test_input = f's3://{s3_bucket}/{test_s3_path}'"
   ]
  },
  {
   "cell_type": "markdown",
   "id": "ff8bdf2c-1ecf-403d-a6f0-5bdc2c1eba26",
   "metadata": {},
   "source": [
    "## Define BlazingText estimator"
   ]
  },
  {
   "cell_type": "code",
   "execution_count": null,
   "id": "8ca6e5b4-ac22-470d-b301-c6d9ead39416",
   "metadata": {},
   "outputs": [],
   "source": [
    "from sagemaker.amazon.amazon_estimator import get_image_uri\n",
    "\n",
    "bt_image = sagemaker.image_uris.retrieve(\"blazingtext\", sess.boto_region_name)\n",
    "\n",
    "bt_estimator = sagemaker.estimator.Estimator(\n",
    "    image_uri=bt_image,\n",
    "    role=role,\n",
    "    instance_count=1,\n",
    "    instance_type='ml.m5.large',\n",
    "    volume_size=5,\n",
    "    max_run=3600,\n",
    "    input_mode='File',\n",
    "    output_path=f's3://{s3_bucket}/blazingtext-output',\n",
    "    sagemaker_session=sess\n",
    ")"
   ]
  },
  {
   "cell_type": "markdown",
   "id": "a3d90ff5-c6f0-451a-87fe-792febed3030",
   "metadata": {},
   "source": [
    "# Set hyperparameters"
   ]
  },
  {
   "cell_type": "code",
   "execution_count": null,
   "id": "d18ca9c6-9505-4bcf-b9ed-3f796d6f51f9",
   "metadata": {},
   "outputs": [],
   "source": [
    "bt_estimator.set_hyperparameters(\n",
    "    mode='supervised',\n",
    "    epochs=10,\n",
    "    learning_rate=0.05,\n",
    "    vector_dim=100,\n",
    "    min_count=2,\n",
    "    early_stopping=True\n",
    ")"
   ]
  },
  {
   "cell_type": "markdown",
   "id": "f98e883e-d68e-4397-80f2-db4ef1d0f418",
   "metadata": {},
   "source": [
    "## Launch training and deploy model"
   ]
  },
  {
   "cell_type": "code",
   "execution_count": null,
   "id": "94aa2182-e827-44d0-ae35-0667136b04f9",
   "metadata": {},
   "outputs": [],
   "source": [
    "import json\n",
    "import boto3\n",
    "import sagemaker\n",
    "from sagemaker.inputs import TrainingInput\n",
    "\n",
    "train_input = TrainingInput(s3_data=s3_train_input, content_type='text/plain')\n",
    "test_input = TrainingInput(s3_data=s3_test_input, content_type='text/plain')\n",
    "bt_estimator.fit({'train': train_input, 'validation': test_input})\n",
    "\n",
    "# Deploy the model\n",
    "predictor = bt_estimator.deploy(initial_instance_count=1, instance_type='ml.m5.large')"
   ]
  },
  {
   "cell_type": "markdown",
   "id": "d9df694a-2b91-4549-b06b-e78e6d216d09",
   "metadata": {},
   "source": [
    "## Evaluate the model"
   ]
  },
  {
   "cell_type": "code",
   "execution_count": null,
   "id": "43ce78ab-e53d-4ed9-9178-c6e1131a0b09",
   "metadata": {},
   "outputs": [],
   "source": [
    "from sklearn.metrics import classification_report\n",
    "import json\n",
    "import boto3\n",
    "import sagemaker\n",
    "import json\n",
    "\n",
    "# Prepare test input\n",
    "test_statements = test_data['clean_statement'].tolist()\n",
    "payload = {\"instances\": test_statements}\n",
    "\n",
    "# Get Response\n",
    "runtime = boto3.client(\"sagemaker-runtime\")\n",
    "response = runtime.invoke_endpoint(\n",
    "    EndpointName=predictor.endpoint_name,\n",
    "    ContentType=\"application/json\",  # Ensure JSON content type\n",
    "    Body=json.dumps(payload).encode(\"utf-8\")  # Encode the JSON payload\n",
    ")\n",
    "\n",
    "# Actual true labels\n",
    "true_labels = test_data['Lie_label'].tolist()\n",
    "\n",
    "# Parse response\n",
    "result = json.loads(response[\"Body\"].read().decode())\n",
    "predicted_labels = [\"TRUE\" if \"TRUE\" in p[\"label\"][0] else \"FALSE\" for p in result]\n",
    "\n",
    "# Evaluate\n",
    "print(classification_report(true_labels, predicted_labels))"
   ]
  },
  {
   "cell_type": "markdown",
   "id": "1cd9246d-1da6-4396-a2c6-07c970ff6886",
   "metadata": {},
   "source": [
    "## Cleanup the endpoint, or else goodbye, $$"
   ]
  },
  {
   "cell_type": "code",
   "execution_count": null,
   "id": "9f45021d-9df9-4f48-a850-023fcb431364",
   "metadata": {},
   "outputs": [],
   "source": [
    "# Cleanup\n",
    "predictor.delete_endpoint()"
   ]
  }
 ],
 "metadata": {
  "kernelspec": {
   "display_name": "Python 3 (ipykernel)",
   "language": "python",
   "name": "python3"
  },
  "language_info": {
   "codemirror_mode": {
    "name": "ipython",
    "version": 3
   },
   "file_extension": ".py",
   "mimetype": "text/x-python",
   "name": "python",
   "nbconvert_exporter": "python",
   "pygments_lexer": "ipython3",
   "version": "3.11.11"
  }
 },
 "nbformat": 4,
 "nbformat_minor": 5
}
